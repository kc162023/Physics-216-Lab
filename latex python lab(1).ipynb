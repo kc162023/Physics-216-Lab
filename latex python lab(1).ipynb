{
 "cells": [
  {
   "cell_type": "code",
   "execution_count": 1,
   "id": "eea0c554",
   "metadata": {},
   "outputs": [
    {
     "name": "stdout",
     "output_type": "stream",
     "text": [
      "1.2000000000000002\n"
     ]
    }
   ],
   "source": [
    "def rule1(c, da):\n",
    "    dQ = abs(c)*da\n",
    "    return dQ\n",
    "constant = 12\n",
    "errd1 = 0.1\n",
    "errtotal = rule1(constant, errd1)\n",
    "print(errtotal)"
   ]
  },
  {
   "cell_type": "code",
   "execution_count": 5,
   "id": "50438d40",
   "metadata": {},
   "outputs": [
    {
     "name": "stdout",
     "output_type": "stream",
     "text": [
      "201.99\n"
     ]
    }
   ],
   "source": [
    "def rule2(a, m, c, da):\n",
    "    dQ = abs(c*m*a^(m-1))*da\n",
    "    return dQ\n",
    "c = 1\n",
    "a = 100\n",
    "m = 200\n",
    "da = 0.01\n",
    "errtotal = rule2(a, m, c, da)\n",
    "print(errtotal)"
   ]
  },
  {
   "cell_type": "code",
   "execution_count": 6,
   "id": "22488511",
   "metadata": {},
   "outputs": [
    {
     "name": "stdout",
     "output_type": "stream",
     "text": [
      "0.223606797749979\n"
     ]
    }
   ],
   "source": [
    "def rule3(da, dn):\n",
    "    dQ = np.sqrt(da**2+db**2)\n",
    "    return dQ\n",
    "\n"
   ]
  },
  {
   "cell_type": "code",
   "execution_count": 19,
   "id": "50a87d01",
   "metadata": {},
   "outputs": [
    {
     "name": "stdout",
     "output_type": "stream",
     "text": [
      "0.005815631200257906\n",
      "0.17950549357115014\n",
      "1.1166666666666667\n"
     ]
    }
   ],
   "source": [
    "import math\n",
    "def rule4(a, b, d, c, m, n, o, da, db,dd):\n",
    "    dQ = (((m*(da/a))**2 + (n*(db/b))**2)+(o*(dd/d))**2)**.5\n",
    "    return dQ\n",
    "a= (0.2639*0.0661)\n",
    "b= 0.271\n",
    "d= (1-math.cos(34.7))\n",
    "m= -1\n",
    "n= 0.5\n",
    "o= 0.5\n",
    "da= 0.0001\n",
    "db= 0.0005\n",
    "dd= 0.0013\n",
    "c= (2*9.8)**0.5\n",
    "errtotal= rule4(a,b,d,c, m,n,o,da,db,dd)\n",
    "print(errtotal)\n",
    "#the uncertainty in velocity I calculated in my lab was 0.03 and the code gave me 0.005 they are similar but not the same\n",
    "import numpy\n",
    "np = numpy\n",
    "def standard_deviation(x):\n",
    "    std_final= np.std(x)\n",
    "    return std_final\n",
    "x= [1.1,1.3,1.4,0.9,0.95,1.05]\n",
    "std_dev= standard_deviation(x)\n",
    "def average(x):\n",
    "    avg_final= np.average(x)\n",
    "    return avg_final\n",
    "x= [1.1,1.3,1.4,0.9,0.95,1.05]\n",
    "print(std_dev)\n",
    "avg = average(x)\n",
    "x= [1.1,1.3,1.4,0.9,0.95,1.05]\n",
    "print(avg)"
   ]
  },
  {
   "cell_type": "markdown",
   "id": "c3667135",
   "metadata": {},
   "source": [
    "$\\delta Q = \\sqrt{( \\delta A)^2 + (\\delta B)^2}$"
   ]
  },
  {
   "cell_type": "markdown",
   "id": "eb7734e7",
   "metadata": {},
   "source": [
    "$ \\delta v_i = \\sqrt{2g} * \\sqrt{(\\frac{- \\delta (M+m)m}{M+m)m})^2 + (\\frac{ \\delta R}{2R})^2 + (\\frac{ \\delta 1-cos(\\theta)}{2(1-cos(\\theta)})^2}$"
   ]
  },
  {
   "cell_type": "code",
   "execution_count": null,
   "id": "6f2821dc",
   "metadata": {},
   "outputs": [],
   "source": []
  }
 ],
 "metadata": {
  "kernelspec": {
   "display_name": "Python 3",
   "language": "python",
   "name": "python3"
  },
  "language_info": {
   "codemirror_mode": {
    "name": "ipython",
    "version": 3
   },
   "file_extension": ".py",
   "mimetype": "text/x-python",
   "name": "python",
   "nbconvert_exporter": "python",
   "pygments_lexer": "ipython3",
   "version": "3.8.8"
  }
 },
 "nbformat": 4,
 "nbformat_minor": 5
}
