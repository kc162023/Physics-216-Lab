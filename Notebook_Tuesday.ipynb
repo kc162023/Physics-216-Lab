{
 "cells": [
  {
   "cell_type": "code",
   "execution_count": 1,
   "metadata": {},
   "outputs": [
    {
     "name": "stdout",
     "output_type": "stream",
     "text": [
      "c =  205.2\n"
     ]
    }
   ],
   "source": [
    "#Outline of what I want to cover for this lab\n",
    "\n",
    "#Functions - for repetetive tasks/calculations\n",
    "\n",
    "import numpy as np\n",
    "\n",
    "#say we wanted to write a function that added two numbers and multiplied them by 12 \n",
    "#let's call this function fred.  fred needs two numbers, or parameters to operate on\n",
    "#and then will return the value.\n",
    "\n",
    "def fred(a,b):\n",
    "    c = (a+b)*12\n",
    "    return c\n",
    "\n",
    "#we define functions at the top after the import statements\n",
    "#what will happen if I run this code?\n",
    "#now we need to call this function\n",
    "#but first, assign values to a, b\n",
    "\n",
    "a = 13.2\n",
    "b = 3.9\n",
    "\n",
    "c = fred(a,b)\n",
    "# what will happen if I run this code?\n",
    "#need a print statement\n",
    "\n",
    "print(\"c = \", c)"
   ]
  },
  {
   "cell_type": "code",
   "execution_count": 3,
   "metadata": {},
   "outputs": [
    {
     "name": "stdout",
     "output_type": "stream",
     "text": [
      "0.01414213562373095\n"
     ]
    }
   ],
   "source": [
    "#what do you think would be good to write functions for in our labs?\n",
    "\n",
    "#let's write rule 3 together, then you'll write rules 1,2 and 4\n",
    "\n",
    "def rule3(da, db):\n",
    "    dQ = np.sqrt(da**2+db**2)\n",
    "    return dQ\n",
    "\n",
    "d1 = 1.2\n",
    "d2 = 1.3\n",
    "errd1 = 0.01\n",
    "errd2 = 0.01\n",
    "errdtotal = rule3(errd1,errd2)\n",
    "print (errdtotal)\n",
    "\n",
    "#FOR quiz, you'll just be turning in a notebook that you\n",
    "#work on today, etc for the quiz\n",
    "\n"
   ]
  },
  {
   "cell_type": "code",
   "execution_count": 4,
   "metadata": {},
   "outputs": [
    {
     "name": "stdout",
     "output_type": "stream",
     "text": [
      "[ 3  6 36]\n",
      "[ 4  8 48]\n"
     ]
    }
   ],
   "source": [
    "#doing calculations using Python\n",
    "#look at a few simple array vectorization examples\n",
    "\n",
    "x = np.array([1,2,12])\n",
    "\n",
    "y = x*3\n",
    "print (y)\n",
    "\n",
    "z = x + y\n",
    "print (z)\n",
    "\n"
   ]
  },
  {
   "cell_type": "code",
   "execution_count": 8,
   "metadata": {},
   "outputs": [
    {
     "name": "stdout",
     "output_type": "stream",
     "text": [
      "standard dev x= 0.33870669054835956\n",
      "xmean= 1.2833333333333334\n"
     ]
    }
   ],
   "source": [
    "#np.std() and np.average()  mention these\n",
    "#how do we write out our results in a sentence\n",
    "\n",
    "x = np.array([1,2,1.2,1.3,1,1.2])\n",
    "std_x = np.std(x)\n",
    "print (\"standard dev x=\",std_x)\n",
    "xmean = np.average(x)\n",
    "print (\"xmean=\",xmean)"
   ]
  },
  {
   "cell_type": "code",
   "execution_count": 12,
   "metadata": {},
   "outputs": [],
   "source": [
    "#using Markdown and LaTeX\n",
    "\n",
    "\n"
   ]
  },
  {
   "cell_type": "markdown",
   "metadata": {},
   "source": [
    "$\\delta Q = \\sqrt{(\\delta A)^2+(\\delta B)^2}$"
   ]
  },
  {
   "cell_type": "markdown",
   "metadata": {},
   "source": [
    "# This is a really fun notebook"
   ]
  },
  {
   "cell_type": "markdown",
   "metadata": {},
   "source": [
    "Let's try some LaTeX\n",
    "$\\delta F = g\\delta m$\n",
    "Show the sqrt and how to do subscript and superscript\n",
    "You can do your whole lab report in a notebook.  You can use some LaTeX in Word to write equations faster"
   ]
  },
  {
   "cell_type": "markdown",
   "metadata": {},
   "source": [
    "show LaTeX cheatsheet\n",
    "https://wch.github.io/latexsheet/\n",
    "\n",
    "https://nbviewer.jupyter.org/gist/ketch/08ce0845da0c8f3fa9ff  example notebook\n",
    "\n",
    "https://jckantor.github.io/CBE30338/A.03-Animation-in-Jupyter-Notebooks.html another example notebook\n",
    "\n",
    "Write out generic form of rule 3"
   ]
  },
  {
   "cell_type": "code",
   "execution_count": null,
   "metadata": {},
   "outputs": [],
   "source": []
  }
 ],
 "metadata": {
  "kernelspec": {
   "display_name": "Python 3",
   "language": "python",
   "name": "python3"
  },
  "language_info": {
   "codemirror_mode": {
    "name": "ipython",
    "version": 3
   },
   "file_extension": ".py",
   "mimetype": "text/x-python",
   "name": "python",
   "nbconvert_exporter": "python",
   "pygments_lexer": "ipython3",
   "version": "3.8.5"
  }
 },
 "nbformat": 4,
 "nbformat_minor": 2
}
